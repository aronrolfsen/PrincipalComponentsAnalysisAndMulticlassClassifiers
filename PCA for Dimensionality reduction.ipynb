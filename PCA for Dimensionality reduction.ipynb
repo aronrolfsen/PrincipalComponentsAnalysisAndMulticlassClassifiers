{
 "cells": [
  {
   "cell_type": "markdown",
   "metadata": {},
   "source": [
    "## Principal Components Analysis\n",
    "\n",
    "Dimensionality reduction of a dataset is very useful to address two concerns. Primarily, it analyses correlation in a dataset and reduces the original features (variables) to a set of uncorrelated features. This reduces the complexity (dimensionality) of the dataset while retaining most of the information.\n",
    "\n",
    "The other concern that often needs to be addressed before analysing a dataset further is noise. Dimensionality reduction via PCA does not remove noise directly, but often will reduce noise because noise will affect all variables."
   ]
  },
  {
   "cell_type": "markdown",
   "metadata": {},
   "source": [
    "I will be using a dataset on wine for this exercise and a principal component analysis (PCA) to reduce dimensionality."
   ]
  },
  {
   "cell_type": "code",
   "execution_count": 1,
   "metadata": {},
   "outputs": [],
   "source": [
    "#Importing packages\n",
    "import pandas as pd\n",
    "import matplotlib.pyplot as plt\n",
    "from sklearn.preprocessing import StandardScaler\n",
    "import seaborn as sns\n",
    "import numpy as np\n",
    "\n",
    "#Loading the dataset\n",
    "df = pd.read_csv(r\"C:\\data\\wine-pca\\Wine.csv\")\n"
   ]
  },
  {
   "cell_type": "markdown",
   "metadata": {},
   "source": [
    "Let's have a quick look at the dataset"
   ]
  },
  {
   "cell_type": "code",
   "execution_count": 2,
   "metadata": {},
   "outputs": [
    {
     "data": {
      "text/html": [
       "<div>\n",
       "<style>\n",
       "    .dataframe thead tr:only-child th {\n",
       "        text-align: right;\n",
       "    }\n",
       "\n",
       "    .dataframe thead th {\n",
       "        text-align: left;\n",
       "    }\n",
       "\n",
       "    .dataframe tbody tr th {\n",
       "        vertical-align: top;\n",
       "    }\n",
       "</style>\n",
       "<table border=\"1\" class=\"dataframe\">\n",
       "  <thead>\n",
       "    <tr style=\"text-align: right;\">\n",
       "      <th></th>\n",
       "      <th>Alcohol</th>\n",
       "      <th>Malic_Acid</th>\n",
       "      <th>Ash</th>\n",
       "      <th>Ash_Alcanity</th>\n",
       "      <th>Magnesium</th>\n",
       "      <th>Total_Phenols</th>\n",
       "      <th>Flavanoids</th>\n",
       "      <th>Nonflavanoid_Phenols</th>\n",
       "      <th>Proanthocyanins</th>\n",
       "      <th>Color_Intensity</th>\n",
       "      <th>Hue</th>\n",
       "      <th>OD280</th>\n",
       "      <th>Proline</th>\n",
       "      <th>Customer_Segment</th>\n",
       "    </tr>\n",
       "  </thead>\n",
       "  <tbody>\n",
       "    <tr>\n",
       "      <th>0</th>\n",
       "      <td>14.23</td>\n",
       "      <td>1.71</td>\n",
       "      <td>2.43</td>\n",
       "      <td>15.6</td>\n",
       "      <td>127</td>\n",
       "      <td>2.80</td>\n",
       "      <td>3.06</td>\n",
       "      <td>0.28</td>\n",
       "      <td>2.29</td>\n",
       "      <td>5.64</td>\n",
       "      <td>1.04</td>\n",
       "      <td>3.92</td>\n",
       "      <td>1065</td>\n",
       "      <td>1</td>\n",
       "    </tr>\n",
       "    <tr>\n",
       "      <th>1</th>\n",
       "      <td>13.20</td>\n",
       "      <td>1.78</td>\n",
       "      <td>2.14</td>\n",
       "      <td>11.2</td>\n",
       "      <td>100</td>\n",
       "      <td>2.65</td>\n",
       "      <td>2.76</td>\n",
       "      <td>0.26</td>\n",
       "      <td>1.28</td>\n",
       "      <td>4.38</td>\n",
       "      <td>1.05</td>\n",
       "      <td>3.40</td>\n",
       "      <td>1050</td>\n",
       "      <td>1</td>\n",
       "    </tr>\n",
       "    <tr>\n",
       "      <th>2</th>\n",
       "      <td>13.16</td>\n",
       "      <td>2.36</td>\n",
       "      <td>2.67</td>\n",
       "      <td>18.6</td>\n",
       "      <td>101</td>\n",
       "      <td>2.80</td>\n",
       "      <td>3.24</td>\n",
       "      <td>0.30</td>\n",
       "      <td>2.81</td>\n",
       "      <td>5.68</td>\n",
       "      <td>1.03</td>\n",
       "      <td>3.17</td>\n",
       "      <td>1185</td>\n",
       "      <td>1</td>\n",
       "    </tr>\n",
       "    <tr>\n",
       "      <th>3</th>\n",
       "      <td>14.37</td>\n",
       "      <td>1.95</td>\n",
       "      <td>2.50</td>\n",
       "      <td>16.8</td>\n",
       "      <td>113</td>\n",
       "      <td>3.85</td>\n",
       "      <td>3.49</td>\n",
       "      <td>0.24</td>\n",
       "      <td>2.18</td>\n",
       "      <td>7.80</td>\n",
       "      <td>0.86</td>\n",
       "      <td>3.45</td>\n",
       "      <td>1480</td>\n",
       "      <td>1</td>\n",
       "    </tr>\n",
       "    <tr>\n",
       "      <th>4</th>\n",
       "      <td>13.24</td>\n",
       "      <td>2.59</td>\n",
       "      <td>2.87</td>\n",
       "      <td>21.0</td>\n",
       "      <td>118</td>\n",
       "      <td>2.80</td>\n",
       "      <td>2.69</td>\n",
       "      <td>0.39</td>\n",
       "      <td>1.82</td>\n",
       "      <td>4.32</td>\n",
       "      <td>1.04</td>\n",
       "      <td>2.93</td>\n",
       "      <td>735</td>\n",
       "      <td>1</td>\n",
       "    </tr>\n",
       "  </tbody>\n",
       "</table>\n",
       "</div>"
      ],
      "text/plain": [
       "   Alcohol  Malic_Acid   Ash  Ash_Alcanity  Magnesium  Total_Phenols  \\\n",
       "0    14.23        1.71  2.43          15.6        127           2.80   \n",
       "1    13.20        1.78  2.14          11.2        100           2.65   \n",
       "2    13.16        2.36  2.67          18.6        101           2.80   \n",
       "3    14.37        1.95  2.50          16.8        113           3.85   \n",
       "4    13.24        2.59  2.87          21.0        118           2.80   \n",
       "\n",
       "   Flavanoids  Nonflavanoid_Phenols  Proanthocyanins  Color_Intensity   Hue  \\\n",
       "0        3.06                  0.28             2.29             5.64  1.04   \n",
       "1        2.76                  0.26             1.28             4.38  1.05   \n",
       "2        3.24                  0.30             2.81             5.68  1.03   \n",
       "3        3.49                  0.24             2.18             7.80  0.86   \n",
       "4        2.69                  0.39             1.82             4.32  1.04   \n",
       "\n",
       "   OD280  Proline  Customer_Segment  \n",
       "0   3.92     1065                 1  \n",
       "1   3.40     1050                 1  \n",
       "2   3.17     1185                 1  \n",
       "3   3.45     1480                 1  \n",
       "4   2.93      735                 1  "
      ]
     },
     "execution_count": 2,
     "metadata": {},
     "output_type": "execute_result"
    }
   ],
   "source": [
    "df.head()\n"
   ]
  },
  {
   "cell_type": "code",
   "execution_count": 3,
   "metadata": {},
   "outputs": [
    {
     "data": {
      "image/png": "[encoded data removed]",
      "text/plain": [
       "<matplotlib.figure.Figure at 0x2969db6c048>"
      ]
     },
     "metadata": {},
     "output_type": "display_data"
    }
   ],
   "source": [
    "df.hist(figsize = (10,10))\n",
    "plt.show()"
   ]
  },
  {
   "cell_type": "markdown",
   "metadata": {},
   "source": [
    "We can see that there are 3 customer segments, fairly equally represented. A machine learning exercise would possibly be interested in predicting the customer segments of wines based on their other variables, for example by classifying with a decision tree algorithm. We might also be interested in clustering the wines to see if we can identify the customer segments by the resulting clusters.\n",
    "\n",
    "In that case we would want to make sure that we keep the customer segment variable as is. Let's therefore split this variable out into a y set"
   ]
  },
  {
   "cell_type": "code",
   "execution_count": 4,
   "metadata": {
    "collapsed": true
   },
   "outputs": [],
   "source": [
    "X = df.iloc[:,0:13]\n",
    "y = df.iloc[:,13]"
   ]
  },
  {
   "cell_type": "markdown",
   "metadata": {},
   "source": [
    "Let's check if that went OK"
   ]
  },
  {
   "cell_type": "code",
   "execution_count": 5,
   "metadata": {},
   "outputs": [
    {
     "data": {
      "text/html": [
       "<div>\n",
       "<style>\n",
       "    .dataframe thead tr:only-child th {\n",
       "        text-align: right;\n",
       "    }\n",
       "\n",
       "    .dataframe thead th {\n",
       "        text-align: left;\n",
       "    }\n",
       "\n",
       "    .dataframe tbody tr th {\n",
       "        vertical-align: top;\n",
       "    }\n",
       "</style>\n",
       "<table border=\"1\" class=\"dataframe\">\n",
       "  <thead>\n",
       "    <tr style=\"text-align: right;\">\n",
       "      <th></th>\n",
       "      <th>Alcohol</th>\n",
       "      <th>Malic_Acid</th>\n",
       "      <th>Ash</th>\n",
       "      <th>Ash_Alcanity</th>\n",
       "      <th>Magnesium</th>\n",
       "      <th>Total_Phenols</th>\n",
       "      <th>Flavanoids</th>\n",
       "      <th>Nonflavanoid_Phenols</th>\n",
       "      <th>Proanthocyanins</th>\n",
       "      <th>Color_Intensity</th>\n",
       "      <th>Hue</th>\n",
       "      <th>OD280</th>\n",
       "      <th>Proline</th>\n",
       "    </tr>\n",
       "  </thead>\n",
       "  <tbody>\n",
       "    <tr>\n",
       "      <th>0</th>\n",
       "      <td>14.23</td>\n",
       "      <td>1.71</td>\n",
       "      <td>2.43</td>\n",
       "      <td>15.6</td>\n",
       "      <td>127</td>\n",
       "      <td>2.80</td>\n",
       "      <td>3.06</td>\n",
       "      <td>0.28</td>\n",
       "      <td>2.29</td>\n",
       "      <td>5.64</td>\n",
       "      <td>1.04</td>\n",
       "      <td>3.92</td>\n",
       "      <td>1065</td>\n",
       "    </tr>\n",
       "    <tr>\n",
       "      <th>1</th>\n",
       "      <td>13.20</td>\n",
       "      <td>1.78</td>\n",
       "      <td>2.14</td>\n",
       "      <td>11.2</td>\n",
       "      <td>100</td>\n",
       "      <td>2.65</td>\n",
       "      <td>2.76</td>\n",
       "      <td>0.26</td>\n",
       "      <td>1.28</td>\n",
       "      <td>4.38</td>\n",
       "      <td>1.05</td>\n",
       "      <td>3.40</td>\n",
       "      <td>1050</td>\n",
       "    </tr>\n",
       "    <tr>\n",
       "      <th>2</th>\n",
       "      <td>13.16</td>\n",
       "      <td>2.36</td>\n",
       "      <td>2.67</td>\n",
       "      <td>18.6</td>\n",
       "      <td>101</td>\n",
       "      <td>2.80</td>\n",
       "      <td>3.24</td>\n",
       "      <td>0.30</td>\n",
       "      <td>2.81</td>\n",
       "      <td>5.68</td>\n",
       "      <td>1.03</td>\n",
       "      <td>3.17</td>\n",
       "      <td>1185</td>\n",
       "    </tr>\n",
       "    <tr>\n",
       "      <th>3</th>\n",
       "      <td>14.37</td>\n",
       "      <td>1.95</td>\n",
       "      <td>2.50</td>\n",
       "      <td>16.8</td>\n",
       "      <td>113</td>\n",
       "      <td>3.85</td>\n",
       "      <td>3.49</td>\n",
       "      <td>0.24</td>\n",
       "      <td>2.18</td>\n",
       "      <td>7.80</td>\n",
       "      <td>0.86</td>\n",
       "      <td>3.45</td>\n",
       "      <td>1480</td>\n",
       "    </tr>\n",
       "    <tr>\n",
       "      <th>4</th>\n",
       "      <td>13.24</td>\n",
       "      <td>2.59</td>\n",
       "      <td>2.87</td>\n",
       "      <td>21.0</td>\n",
       "      <td>118</td>\n",
       "      <td>2.80</td>\n",
       "      <td>2.69</td>\n",
       "      <td>0.39</td>\n",
       "      <td>1.82</td>\n",
       "      <td>4.32</td>\n",
       "      <td>1.04</td>\n",
       "      <td>2.93</td>\n",
       "      <td>735</td>\n",
       "    </tr>\n",
       "  </tbody>\n",
       "</table>\n",
       "</div>"
      ],
      "text/plain": [
       "   Alcohol  Malic_Acid   Ash  Ash_Alcanity  Magnesium  Total_Phenols  \\\n",
       "0    14.23        1.71  2.43          15.6        127           2.80   \n",
       "1    13.20        1.78  2.14          11.2        100           2.65   \n",
       "2    13.16        2.36  2.67          18.6        101           2.80   \n",
       "3    14.37        1.95  2.50          16.8        113           3.85   \n",
       "4    13.24        2.59  2.87          21.0        118           2.80   \n",
       "\n",
       "   Flavanoids  Nonflavanoid_Phenols  Proanthocyanins  Color_Intensity   Hue  \\\n",
       "0        3.06                  0.28             2.29             5.64  1.04   \n",
       "1        2.76                  0.26             1.28             4.38  1.05   \n",
       "2        3.24                  0.30             2.81             5.68  1.03   \n",
       "3        3.49                  0.24             2.18             7.80  0.86   \n",
       "4        2.69                  0.39             1.82             4.32  1.04   \n",
       "\n",
       "   OD280  Proline  \n",
       "0   3.92     1065  \n",
       "1   3.40     1050  \n",
       "2   3.17     1185  \n",
       "3   3.45     1480  \n",
       "4   2.93      735  "
      ]
     },
     "execution_count": 5,
     "metadata": {},
     "output_type": "execute_result"
    }
   ],
   "source": [
    "X.head()"
   ]
  },
  {
   "cell_type": "markdown",
   "metadata": {},
   "source": [
    "Let's now map the correlation between the variables in a heatmap to get a sense"
   ]
  },
  {
   "cell_type": "code",
   "execution_count": 6,
   "metadata": {},
   "outputs": [
    {
     "data": {
      "image/png": "[encoded data removed]",
      "text/plain": [
       "<matplotlib.figure.Figure at 0x2969de51b70>"
      ]
     },
     "metadata": {},
     "output_type": "display_data"
    }
   ],
   "source": [
    "corrmat = X.corr()\n",
    "fig = plt.figure(figsize = (10,10))\n",
    "sns.heatmap(corrmat, vmax = .8, square = True)\n",
    "plt.show()"
   ]
  },
  {
   "cell_type": "markdown",
   "metadata": {},
   "source": [
    "This heatmap shows us that there are many correlated variables in this set. As an example, wines with high level of Flavanoids in most cases have low level of Nonflavanoid_Phenols (Seems logical enough) and high OD280.  \n",
    "\n",
    "This is a good starting point for our PCA, since it works with correlation.\n",
    "\n",
    "The first thing we need to do is to create the covariance matrix for the dataset"
   ]
  },
  {
   "cell_type": "code",
   "execution_count": 7,
   "metadata": {},
   "outputs": [
    {
     "name": "stdout",
     "output_type": "stream",
     "text": [
      "[[ 1.00564972  0.09493026  0.21273976 -0.31198788  0.27232816  0.29073446\n",
      "   0.23815287 -0.15681042  0.13747022  0.549451   -0.07215255  0.07275191\n",
      "   0.64735687]\n",
      " [ 0.09493026  1.00564972  0.16497228  0.29013035 -0.05488343 -0.3370606\n",
      "  -0.41332866  0.29463237 -0.22199334  0.25039204 -0.56446685 -0.37079354\n",
      "  -0.19309537]\n",
      " [ 0.21273976  0.16497228  1.00564972  0.44587209  0.28820583  0.12970824\n",
      "   0.11572743  0.1872826   0.00970647  0.2603499  -0.07508874  0.00393333\n",
      "   0.22488969]\n",
      " [-0.31198788  0.29013035  0.44587209  1.00564972 -0.0838039  -0.32292752\n",
      "  -0.353355    0.36396647 -0.19844168  0.01883781 -0.27550299 -0.27833221\n",
      "  -0.44308618]\n",
      " [ 0.27232816 -0.05488343  0.28820583 -0.0838039   1.00564972  0.21561254\n",
      "   0.19688989 -0.25774204  0.23777643  0.20107967  0.05571118  0.06637684\n",
      "   0.39557317]\n",
      " [ 0.29073446 -0.3370606   0.12970824 -0.32292752  0.21561254  1.00564972\n",
      "   0.86944804 -0.45247731  0.61587304 -0.05544792  0.43613151  0.70390388\n",
      "   0.50092909]\n",
      " [ 0.23815287 -0.41332866  0.11572743 -0.353355    0.19688989  0.86944804\n",
      "   1.00564972 -0.54093859  0.65637929 -0.17335329  0.54654907  0.79164133\n",
      "   0.49698518]\n",
      " [-0.15681042  0.29463237  0.1872826   0.36396647 -0.25774204 -0.45247731\n",
      "  -0.54093859  1.00564972 -0.36791202  0.13984265 -0.26412347 -0.50611293\n",
      "  -0.31314443]\n",
      " [ 0.13747022 -0.22199334  0.00970647 -0.19844168  0.23777643  0.61587304\n",
      "   0.65637929 -0.36791202  1.00564972 -0.02539259  0.29721399  0.52199968\n",
      "   0.33228346]\n",
      " [ 0.549451    0.25039204  0.2603499   0.01883781  0.20107967 -0.05544792\n",
      "  -0.17335329  0.13984265 -0.02539259  1.00564972 -0.52476129 -0.43123763\n",
      "   0.31788599]\n",
      " [-0.07215255 -0.56446685 -0.07508874 -0.27550299  0.05571118  0.43613151\n",
      "   0.54654907 -0.26412347  0.29721399 -0.52476129  1.00564972  0.56866303\n",
      "   0.23751782]\n",
      " [ 0.07275191 -0.37079354  0.00393333 -0.27833221  0.06637684  0.70390388\n",
      "   0.79164133 -0.50611293  0.52199968 -0.43123763  0.56866303  1.00564972\n",
      "   0.31452809]\n",
      " [ 0.64735687 -0.19309537  0.22488969 -0.44308618  0.39557317  0.50092909\n",
      "   0.49698518 -0.31314443  0.33228346  0.31788599  0.23751782  0.31452809\n",
      "   1.00564972]]\n"
     ]
    }
   ],
   "source": [
    "#Standardize the dataset to a unit scale for efficiency\n",
    "X_std = StandardScaler().fit_transform(X)\n",
    "\n",
    "#calculating the mean vector\n",
    "mean_vec = np.mean(X_std, axis = 0)\n",
    "\n",
    "#creating the covariance matrix. dot for dot product, shape for the number of variables (size).\n",
    "cov_mat = (X_std - mean_vec).T.dot((X_std - mean_vec)) / (X_std.shape[0] - 1)\n",
    "\n",
    "print(cov_mat)\n"
   ]
  },
  {
   "cell_type": "markdown",
   "metadata": {},
   "source": [
    "Next is the eigendecomposition of the covariance matrix"
   ]
  },
  {
   "cell_type": "code",
   "execution_count": 9,
   "metadata": {},
   "outputs": [
    {
     "name": "stdout",
     "output_type": "stream",
     "text": [
      "[ 4.73243698  2.51108093  1.45424187  0.92416587  0.85804868  0.64528221\n",
      "  0.55414147  0.10396199  0.35046627  0.16972374  0.29051203  0.22706428\n",
      "  0.25232001]\n",
      "\n",
      "\n",
      "[[-0.1443294   0.48365155 -0.20738262  0.0178563  -0.26566365  0.21353865\n",
      "   0.05639636 -0.01496997  0.39613926 -0.26628645 -0.50861912 -0.22591696\n",
      "   0.21160473]\n",
      " [ 0.24518758  0.22493093  0.08901289 -0.53689028  0.03521363  0.53681385\n",
      "  -0.42052391 -0.02596375  0.06582674  0.12169604  0.07528304  0.07648554\n",
      "  -0.30907994]\n",
      " [ 0.00205106  0.31606881  0.6262239   0.21417556 -0.14302547  0.15447466\n",
      "   0.14917061  0.14121803 -0.17026002 -0.04962237  0.30769445 -0.49869142\n",
      "  -0.02712539]\n",
      " [ 0.23932041 -0.0105905   0.61208035 -0.06085941  0.06610294 -0.10082451\n",
      "   0.28696914 -0.09168285  0.42797018 -0.05574287 -0.20044931  0.47931378\n",
      "   0.05279942]\n",
      " [-0.14199204  0.299634    0.13075693  0.35179658  0.72704851  0.03814394\n",
      "  -0.3228833  -0.05677422 -0.15636143  0.06222011 -0.27140257  0.07128891\n",
      "   0.06787022]\n",
      " [-0.39466085  0.06503951  0.14617896 -0.19806835 -0.14931841 -0.0841223\n",
      "   0.02792498  0.46390791 -0.40593409 -0.30388245 -0.28603452  0.30434119\n",
      "  -0.32013135]\n",
      " [-0.4229343  -0.00335981  0.1506819  -0.15229479 -0.10902584 -0.01892002\n",
      "   0.06068521 -0.83225706 -0.18724536 -0.04289883 -0.04957849 -0.02569409\n",
      "  -0.16315051]\n",
      " [ 0.2985331   0.02877949  0.17036816  0.20330102 -0.50070298 -0.25859401\n",
      "  -0.59544729 -0.11403985 -0.23328465  0.04235219 -0.19550132  0.11689586\n",
      "   0.21553507]\n",
      " [-0.31342949  0.03930172  0.14945431 -0.39905653  0.13685982 -0.53379539\n",
      "  -0.37213935  0.11691707  0.36822675 -0.09555303  0.20914487 -0.23736257\n",
      "   0.1341839 ]\n",
      " [ 0.0886167   0.52999567 -0.13730621 -0.06592568 -0.07643678 -0.41864414\n",
      "   0.22771214  0.0119928  -0.03379692  0.60422163 -0.05621752  0.0318388\n",
      "  -0.29077518]\n",
      " [-0.29671456 -0.27923515  0.08522192  0.42777141 -0.17361452  0.10598274\n",
      "  -0.23207564  0.08988884  0.43662362  0.259214   -0.08582839 -0.04821201\n",
      "  -0.52239889]\n",
      " [-0.37616741 -0.16449619  0.16600459 -0.18412074 -0.10116099  0.26585107\n",
      "   0.0447637   0.15671813 -0.07810789  0.60095872 -0.1372269   0.0464233\n",
      "   0.52370587]\n",
      " [-0.28675223  0.36490283 -0.12674592  0.23207086 -0.1578688   0.11972557\n",
      "  -0.0768045  -0.01444734  0.12002267 -0.07940162  0.57578611  0.53926983\n",
      "   0.162116  ]]\n"
     ]
    }
   ],
   "source": [
    "eigen_vals, eigen_vec = np.linalg.eig(cov_mat)\n",
    "print(eigen_vals)\n",
    "print('\\n')\n",
    "print(eigen_vec)"
   ]
  },
  {
   "cell_type": "markdown",
   "metadata": {},
   "source": [
    "Now, all that's left is to pick the pick the eigenvalues with the highest values and use the corresponding eigenvectors.\n",
    "\n"
   ]
  },
  {
   "cell_type": "code",
   "execution_count": 10,
   "metadata": {},
   "outputs": [
    {
     "name": "stdout",
     "output_type": "stream",
     "text": [
      "4.73243697758\n",
      "2.51108092965\n",
      "1.45424186785\n",
      "0.924165866825\n",
      "0.858048676537\n",
      "0.645282212468\n",
      "0.554141466246\n",
      "0.350466274946\n",
      "0.290512032694\n",
      "0.252320010361\n",
      "0.227064281731\n",
      "0.16972373898\n",
      "0.103961991821\n"
     ]
    }
   ],
   "source": [
    "#Pair the eigenvalues with the eigenvectors\n",
    "eigen_pairs = [(np.abs(eigen_vals[i]), eigen_vec[:,i]) for i in range(len(eigen_vals))]\n",
    "\n",
    "#Sorting the eigenvalues\n",
    "eigen_pairs.sort(reverse=True)\n",
    "\n",
    "eigen_val_sort = list()\n",
    "\n",
    "for i in eigen_pairs:\n",
    "    print(i[0])\n",
    "    eigen_val_sort.append(i[0])\n",
    "    "
   ]
  },
  {
   "cell_type": "markdown",
   "metadata": {},
   "source": [
    "But how many do we pick?"
   ]
  },
  {
   "cell_type": "code",
   "execution_count": 11,
   "metadata": {},
   "outputs": [
    {
     "data": {
      "image/png": "[encoded data removed]",
      "text/plain": [
       "<matplotlib.figure.Figure at 0x2969db6cef0>"
      ]
     },
     "metadata": {},
     "output_type": "display_data"
    }
   ],
   "source": [
    "#Calculating the total variance\n",
    "total_var = sum(eigen_vals)\n",
    "var_exp = [(i / total_var) for i in sorted(eigen_vals, reverse=True)]\n",
    "cumulative_var = np.cumsum(var_exp)\n",
    "\n",
    "objects = list()\n",
    "for i in range(len(eigen_vals)):\n",
    "    objects.append('PC' + str(i+1))\n",
    "\n",
    "y_pos = np.arange(len(objects))\n",
    "\n",
    "plt.figure(figsize = (15,15))\n",
    "plt.bar(y_pos, eigen_val_sort / total_var, align='center', alpha=1)\n",
    "plt.xticks(y_pos, objects)\n",
    "plt.title('Variance by Principal Components')\n",
    "plt.plot(y_pos, cumulative_var)\n",
    "for xy in zip(y_pos, cumulative_var):                                       # <--\n",
    "    plt.annotate('(%s, %s)' % xy, xy=xy, textcoords='data')\n",
    "\n",
    "plt.show()\n"
   ]
  },
  {
   "cell_type": "markdown",
   "metadata": {},
   "source": [
    "The two first principal components explain 55.4 % of the variance. Keeping only these two is probably to much of a trade off.\n",
    "\n",
    "However, two vectors is easy to visualize, so let's still pick those two and see what kind of representation we are left with"
   ]
  },
  {
   "cell_type": "code",
   "execution_count": 12,
   "metadata": {},
   "outputs": [
    {
     "name": "stdout",
     "output_type": "stream",
     "text": [
      "[[-0.1443294   0.48365155]\n",
      " [ 0.24518758  0.22493093]\n",
      " [ 0.00205106  0.31606881]\n",
      " [ 0.23932041 -0.0105905 ]\n",
      " [-0.14199204  0.299634  ]\n",
      " [-0.39466085  0.06503951]\n",
      " [-0.4229343  -0.00335981]\n",
      " [ 0.2985331   0.02877949]\n",
      " [-0.31342949  0.03930172]\n",
      " [ 0.0886167   0.52999567]\n",
      " [-0.29671456 -0.27923515]\n",
      " [-0.37616741 -0.16449619]\n",
      " [-0.28675223  0.36490283]]\n"
     ]
    }
   ],
   "source": [
    "matrix = np.hstack((eigen_pairs[0][1].reshape(13,1),\n",
    "                   eigen_pairs[1][1].reshape(13,1)))\n",
    "print(matrix)\n",
    "\n"
   ]
  },
  {
   "cell_type": "code",
   "execution_count": 13,
   "metadata": {},
   "outputs": [
    {
     "data": {
      "image/png": "[encoded data removed]",
      "text/plain": [
       "<matplotlib.figure.Figure at 0x2969e572748>"
      ]
     },
     "metadata": {},
     "output_type": "display_data"
    }
   ],
   "source": [
    "Y = X_std.dot(matrix)\n",
    "\n",
    "Y_df = pd.DataFrame(data = Y, columns = ['principal component 1', 'principal component 2'])\n",
    "\n",
    "finalDf = pd.concat([Y_df, df[['Customer_Segment']]], axis = 1)\n",
    "\n",
    "fig = plt.figure(figsize = (10,10))\n",
    "ax = fig.add_subplot(1,1,1)\n",
    "ax.set_xlabel('Principal Component 1', fontsize = 15)\n",
    "ax.set_ylabel('Principal Component 2', fontsize = 15)\n",
    "ax.set_title('2 component PCA', fontsize = 20)\n",
    "\n",
    "targets = [1, 2, 3]\n",
    "colors = ['r', 'g', 'b']\n",
    "for target, color in zip(targets,colors):\n",
    "    indicesToKeep = finalDf['Customer_Segment'] == target\n",
    "    ax.scatter(finalDf.loc[indicesToKeep, 'principal component 1']\n",
    "               , finalDf.loc[indicesToKeep, 'principal component 2']\n",
    "               , c = color\n",
    "               , s = 50)\n",
    "ax.legend(targets)\n",
    "ax.grid()\n",
    "\n",
    "plt.show()\n",
    "\n"
   ]
  },
  {
   "cell_type": "markdown",
   "metadata": {},
   "source": [
    "Even with only 55.4 % of the variance kept, we can still see that the wines are fairly separated based on customer segment."
   ]
  },
  {
   "cell_type": "markdown",
   "metadata": {},
   "source": [
    "## Classifying Customer Segment with a Decision Tree Algorithm\n",
    "\n",
    "In order to check the usefulness of this dimensionality reduction, outside of visualizing the result, we can apply a multiclass classifier to the original dataset and to the reduced set and compare the results.\n",
    "\n",
    "In order to be able to test, let's split both sets into a training set and a test set"
   ]
  },
  {
   "cell_type": "code",
   "execution_count": 14,
   "metadata": {},
   "outputs": [
    {
     "name": "stdout",
     "output_type": "stream",
     "text": [
      "(178, 14)\n"
     ]
    }
   ],
   "source": [
    "print(df.shape)"
   ]
  },
  {
   "cell_type": "code",
   "execution_count": 15,
   "metadata": {
    "collapsed": true
   },
   "outputs": [],
   "source": [
    "#randomize the sets\n",
    "df = df.sample(frac=1)\n",
    "finalDf = finalDf.sample(frac=1)"
   ]
  },
  {
   "cell_type": "code",
   "execution_count": 16,
   "metadata": {},
   "outputs": [
    {
     "data": {
      "text/plain": [
       "98     2\n",
       "114    2\n",
       "23     1\n",
       "138    3\n",
       "27     1\n",
       "Name: Customer_Segment, dtype: int64"
      ]
     },
     "execution_count": 16,
     "metadata": {},
     "output_type": "execute_result"
    }
   ],
   "source": [
    "X_orig = df.iloc[:,0:13]\n",
    "y_orig = df.iloc[:,13]\n",
    "\n",
    "X_pca = finalDf.iloc[:,0:2]\n",
    "y_pca = finalDf.iloc[:,2]\n",
    "\n",
    "y_orig.tail()"
   ]
  },
  {
   "cell_type": "code",
   "execution_count": 17,
   "metadata": {},
   "outputs": [
    {
     "name": "stdout",
     "output_type": "stream",
     "text": [
      "(137, 13)\n",
      "(137, 2)\n",
      "(40, 13)\n",
      "(40, 2)\n",
      "(137,)\n",
      "(137,)\n",
      "(40,)\n",
      "(40,)\n"
     ]
    }
   ],
   "source": [
    "X_train = X_orig.iloc[0:40,:]\n",
    "y_train = y_orig.iloc[0:40]\n",
    "\n",
    "X_train_pca = X_pca.iloc[0:40,:]\n",
    "y_train_pca = y_pca.iloc[0:40]\n",
    "\n",
    "X_test = X_orig.iloc[40:-1,:]\n",
    "y_test = y_orig.iloc[40:-1]\n",
    "\n",
    "X_test_pca = X_pca.iloc[40:-1,:]\n",
    "y_test_pca = y_pca.iloc[40:-1]\n",
    "\n",
    "X_train.tail()\n",
    "\n",
    "print(X_test.shape)\n",
    "print(X_test_pca.shape)\n",
    "print(X_train.shape)\n",
    "print(X_train_pca.shape)\n",
    "print(y_test.shape)\n",
    "print(y_test_pca.shape)\n",
    "print(y_train.shape)\n",
    "print(y_train_pca.shape)\n"
   ]
  },
  {
   "cell_type": "markdown",
   "metadata": {},
   "source": [
    "The datasets are divided into training sets with 40 rows for training and 137 rows for testing\n",
    "\n",
    "First we will try to predict the customer segment with a decision tree classifier by using the original dataset:"
   ]
  },
  {
   "cell_type": "code",
   "execution_count": 18,
   "metadata": {},
   "outputs": [
    {
     "data": {
      "text/plain": [
       "DecisionTreeClassifier(class_weight=None, criterion='gini', max_depth=4,\n",
       "            max_features=None, max_leaf_nodes=None,\n",
       "            min_impurity_decrease=0.0, min_impurity_split=None,\n",
       "            min_samples_leaf=1, min_samples_split=2,\n",
       "            min_weight_fraction_leaf=0.0, presort=False, random_state=None,\n",
       "            splitter='best')"
      ]
     },
     "execution_count": 18,
     "metadata": {},
     "output_type": "execute_result"
    }
   ],
   "source": [
    "from sklearn.tree import DecisionTreeClassifier\n",
    "dtree_model = DecisionTreeClassifier(max_depth = 4)\n",
    "\n",
    "#training the model\n",
    "dtree_model.fit(X_train,y_train)"
   ]
  },
  {
   "cell_type": "code",
   "execution_count": 19,
   "metadata": {},
   "outputs": [
    {
     "name": "stdout",
     "output_type": "stream",
     "text": [
      "[2 1 3 1 2 1 1 3 1 2 3 1 3 3 3 3 1 1 2 2 1 3 2 1 3 1 2 2 2 1 1 1 1 1 1 1 2\n",
      " 1 2 1 2 2 2 1 1 3 1 2 1 1 1 2 3 1 2 3 2 2 1 3 1 1 2 3 2 2 3 3 1 3 2 2 1 1\n",
      " 2 2 1 3 1 2 1 3 3 3 2 1 3 2 3 2 1 2 2 2 1 1 3 2 3 3 2 1 2 1 2 3 3 2 2 2 1\n",
      " 3 1 2 1 2 1 1 1 1 2 1 1 3 1 1 3 1 1 1 1 1 2 1 2 1 3]\n",
      "[[44  0  0]\n",
      " [10 44  4]\n",
      " [ 6  1 28]]\n"
     ]
    }
   ],
   "source": [
    "#predicting\n",
    "predictions = dtree_model.predict(X_test)\n",
    "\n",
    "print(predictions)\n",
    "\n",
    "from sklearn.metrics import classification_report,confusion_matrix\n",
    "print(confusion_matrix(y_test,predictions))"
   ]
  },
  {
   "cell_type": "code",
   "execution_count": 20,
   "metadata": {},
   "outputs": [
    {
     "name": "stdout",
     "output_type": "stream",
     "text": [
      "             precision    recall  f1-score   support\n",
      "\n",
      "          1       0.73      1.00      0.85        44\n",
      "          2       0.98      0.76      0.85        58\n",
      "          3       0.88      0.80      0.84        35\n",
      "\n",
      "avg / total       0.87      0.85      0.85       137\n",
      "\n"
     ]
    }
   ],
   "source": [
    "print(classification_report(y_test,predictions))"
   ]
  },
  {
   "cell_type": "markdown",
   "metadata": {},
   "source": [
    "Here, we can see the precision and recall for the 3 different customer segments. E.g. 90% the rows predicted to be customer segment 1 was accurate and 96% of the real customer segment 1 was accurately predicted. \n",
    "\n",
    "In other words, 10 % of customer segment 1 was not detected (false negative), and 4 % of the predicted customer segment 1 was not correct (false positive). \n",
    "\n",
    "Now we'll try with the reduced dataset (PCM1 and PCM2):"
   ]
  },
  {
   "cell_type": "code",
   "execution_count": 21,
   "metadata": {},
   "outputs": [
    {
     "data": {
      "text/plain": [
       "DecisionTreeClassifier(class_weight=None, criterion='gini', max_depth=4,\n",
       "            max_features=None, max_leaf_nodes=None,\n",
       "            min_impurity_decrease=0.0, min_impurity_split=None,\n",
       "            min_samples_leaf=1, min_samples_split=2,\n",
       "            min_weight_fraction_leaf=0.0, presort=False, random_state=None,\n",
       "            splitter='best')"
      ]
     },
     "execution_count": 21,
     "metadata": {},
     "output_type": "execute_result"
    }
   ],
   "source": [
    "dtree_pca = DecisionTreeClassifier(max_depth = 4)\n",
    "\n",
    "#training the model\n",
    "dtree_pca.fit(X_train_pca,y_train_pca)"
   ]
  },
  {
   "cell_type": "code",
   "execution_count": 22,
   "metadata": {},
   "outputs": [
    {
     "name": "stdout",
     "output_type": "stream",
     "text": [
      "[1 1 2 1 3 1 2 1 3 2 1 2 2 2 1 2 3 2 2 2 2 1 1 2 1 1 1 2 3 3 3 2 1 1 1 3 1\n",
      " 2 2 3 2 1 3 3 3 2 2 1 3 1 3 3 2 3 2 1 2 1 3 3 1 1 1 1 2 2 1 1 2 1 1 2 1 3\n",
      " 2 1 3 1 3 1 2 2 2 1 2 2 1 3 3 3 1 2 3 3 1 1 2 1 3 2 2 1 2 2 2 3 1 2 2 1 1\n",
      " 1 1 2 2 2 2 1 3 3 1 3 2 2 3 3 1 1 1 3 2 3 1 3 2 2 3]\n",
      "[[45  2  0]\n",
      " [ 4 48  7]\n",
      " [ 2  0 29]]\n"
     ]
    }
   ],
   "source": [
    "#predicting\n",
    "predictions_pca = dtree_pca.predict(X_test_pca)\n",
    "\n",
    "print(predictions_pca)\n",
    "\n",
    "from sklearn.metrics import classification_report,confusion_matrix\n",
    "print(confusion_matrix(y_test_pca,predictions_pca))"
   ]
  },
  {
   "cell_type": "code",
   "execution_count": 23,
   "metadata": {},
   "outputs": [
    {
     "name": "stdout",
     "output_type": "stream",
     "text": [
      "             precision    recall  f1-score   support\n",
      "\n",
      "          1       0.27      0.32      0.29        44\n",
      "          2       0.52      0.45      0.48        58\n",
      "          3       0.19      0.20      0.20        35\n",
      "\n",
      "avg / total       0.36      0.34      0.35       137\n",
      "\n"
     ]
    }
   ],
   "source": [
    "print(classification_report(y_test,predictions_pca))"
   ]
  },
  {
   "cell_type": "markdown",
   "metadata": {},
   "source": [
    "With the principal components, the same classifier gives a poor result.\n",
    "\n",
    "## Classifying Customer Segment with a Support Vector Machine Algorithm\n",
    "\n",
    "Now, let's try with a Support Vector Machine algorithm, and compare the result again:"
   ]
  },
  {
   "cell_type": "code",
   "execution_count": 24,
   "metadata": {
    "collapsed": true
   },
   "outputs": [],
   "source": [
    "from sklearn import svm"
   ]
  },
  {
   "cell_type": "code",
   "execution_count": 25,
   "metadata": {},
   "outputs": [
    {
     "data": {
      "text/plain": [
       "SVC(C=1.0, cache_size=200, class_weight=None, coef0=0.0,\n",
       "  decision_function_shape='ovr', degree=3, gamma='auto', kernel='rbf',\n",
       "  max_iter=-1, probability=False, random_state=None, shrinking=True,\n",
       "  tol=0.001, verbose=False)"
      ]
     },
     "execution_count": 25,
     "metadata": {},
     "output_type": "execute_result"
    }
   ],
   "source": [
    "svm_model = svm.SVC()\n",
    "svm_model.fit(X_train, y_train)"
   ]
  },
  {
   "cell_type": "code",
   "execution_count": 26,
   "metadata": {},
   "outputs": [
    {
     "name": "stdout",
     "output_type": "stream",
     "text": [
      "             precision    recall  f1-score   support\n",
      "\n",
      "          1       0.33      1.00      0.50        44\n",
      "          2       1.00      0.07      0.13        58\n",
      "          3       1.00      0.03      0.06        35\n",
      "\n",
      "avg / total       0.79      0.36      0.23       137\n",
      "\n"
     ]
    }
   ],
   "source": [
    "predictions_svm = svm_model.predict(X_test)\n",
    "print(classification_report(y_test,predictions_svm))"
   ]
  },
  {
   "cell_type": "code",
   "execution_count": 30,
   "metadata": {},
   "outputs": [
    {
     "data": {
      "text/plain": [
       "SVC(C=1.0, cache_size=200, class_weight=None, coef0=0.0,\n",
       "  decision_function_shape='ovr', degree=3, gamma='auto', kernel='rbf',\n",
       "  max_iter=-1, probability=False, random_state=None, shrinking=True,\n",
       "  tol=0.001, verbose=False)"
      ]
     },
     "execution_count": 30,
     "metadata": {},
     "output_type": "execute_result"
    }
   ],
   "source": [
    "svm_pca = svm.SVC()\n",
    "svm_pca.fit(X_train_pca, y_train_pca)"
   ]
  },
  {
   "cell_type": "code",
   "execution_count": 31,
   "metadata": {},
   "outputs": [
    {
     "name": "stdout",
     "output_type": "stream",
     "text": [
      "             precision    recall  f1-score   support\n",
      "\n",
      "          1       0.94      0.98      0.96        47\n",
      "          2       0.98      0.95      0.97        59\n",
      "          3       1.00      1.00      1.00        31\n",
      "\n",
      "avg / total       0.97      0.97      0.97       137\n",
      "\n"
     ]
    }
   ],
   "source": [
    "predictions_svm_pca = svm_pca.predict(X_test_pca)\n",
    "print(classification_report(y_test_pca,predictions_svm_pca))"
   ]
  },
  {
   "cell_type": "markdown",
   "metadata": {},
   "source": [
    "Here we can see that the support vector machine predicts better with the principal components.\n",
    "\n",
    "We are also able to visualize the result:"
   ]
  },
  {
   "cell_type": "code",
   "execution_count": 32,
   "metadata": {},
   "outputs": [
    {
     "data": {
      "image/png": "[encoded data removed]",
      "text/plain": [
       "<matplotlib.figure.Figure at 0x2969f09dd30>"
      ]
     },
     "metadata": {},
     "output_type": "display_data"
    }
   ],
   "source": [
    "X_y_merged = pd.concat([X_test_pca, y_test_pca], axis=1)\n",
    "\n",
    "fig = plt.figure(figsize = (10,10))\n",
    "ax = fig.add_subplot(1,1,1)\n",
    "\n",
    "h = 0.2  # step size in the mesh\n",
    "\n",
    "x_min, x_max = -6,6\n",
    "y_min, y_max = -6,6\n",
    "xx, yy = np.meshgrid(np.arange(x_min, x_max, h),\n",
    "\t            np.arange(y_min, y_max, h))\n",
    " \n",
    "Z = svm_pca.predict(np.c_[xx.ravel(), yy.ravel()])\n",
    " \n",
    "# Put the result into a color plot\n",
    "Z = Z.reshape(xx.shape)\n",
    "ax.contourf(xx, yy, Z, cmap=plt.cm.coolwarm, alpha=0.8)\n",
    "\n",
    "# Plot also the training points\n",
    "targets = [1, 2, 3]\n",
    "colors = ['r', 'g', 'b']\n",
    "for target, color in zip(targets,colors):\n",
    "    indicesToKeep = X_y_merged['Customer_Segment'] == target\n",
    "    ax.scatter(X_y_merged.loc[indicesToKeep, 'principal component 1']\n",
    "               , X_y_merged.loc[indicesToKeep, 'principal component 2']\n",
    "               , c = color\n",
    "               , s = 50)\n",
    "#plt.scatter(X_y_merged.iloc[:, 0], X_y_merged.iloc[:, 1])\n",
    "ax.set_xlabel('Principal Component 1', fontsize = 15)\n",
    "ax.set_ylabel('Principal Component 2', fontsize = 15)\n",
    "plt.xlim(xx.min(), xx.max())\n",
    "plt.ylim(yy.min(), yy.max())\n",
    "plt.xticks(())\n",
    "plt.yticks(())\n",
    "\n",
    "ax.legend(targets)\n",
    "ax.grid()\n",
    " \n",
    "plt.show()"
   ]
  },
  {
   "cell_type": "markdown",
   "metadata": {},
   "source": [
    "As we can see in the classification report and the graph, customer segment 3 (blue dots) has 100% precision and recall."
   ]
  },
  {
   "cell_type": "code",
   "execution_count": null,
   "metadata": {
    "collapsed": true
   },
   "outputs": [],
   "source": []
  }
 ],
 "metadata": {
  "kernelspec": {
   "display_name": "Python 3",
   "language": "python",
   "name": "python3"
  },
  "language_info": {
   "codemirror_mode": {
    "name": "ipython",
    "version": 3
   },
   "file_extension": ".py",
   "mimetype": "text/x-python",
   "name": "python",
   "nbconvert_exporter": "python",
   "pygments_lexer": "ipython3",
   "version": "3.6.3"
  }
 },
 "nbformat": 4,
 "nbformat_minor": 2
}
